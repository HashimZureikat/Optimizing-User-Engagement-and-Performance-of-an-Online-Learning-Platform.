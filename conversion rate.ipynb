{
 "cells": [
  {
   "cell_type": "code",
   "outputs": [],
   "source": [
    "%%sql\n",
    "\n",
    "Use `db_course_conversions`;\n"
   ],
   "metadata": {
    "collapsed": false,
    "SqlCellData": {
     "data_source_name": "@free",
     "variableName$1": "df_student"
    },
    "ExecuteTime": {
     "end_time": "2024-01-22T21:07:45.819104700Z",
     "start_time": "2024-01-22T21:07:45.763164100Z"
    }
   },
   "id": "cbf26d7c6b9ac851",
   "execution_count": null
  },
  {
   "cell_type": "code",
   "outputs": [
    {
     "data": {
      "text/plain": "       student_id date_registered first_date_watched first_date_purchased  \\\n0          255193      2021-12-01         2021-12-01                  NaN   \n1          255194      2021-12-01         2021-12-01                  NaN   \n2          255198      2021-12-01         2022-02-17                  NaN   \n3          255199      2021-12-01         2021-12-01                  NaN   \n4          255200      2021-12-01         2021-12-01                  NaN   \n...           ...             ...                ...                  ...   \n20250      296916      2022-10-30         2022-10-30                  NaN   \n20251      296918      2022-10-30         2022-10-30                  NaN   \n20252      296922      2022-10-30         2022-10-30                  NaN   \n20253      296926      2022-10-30         2022-10-30                  NaN   \n20254      296931      2022-10-30         2022-10-30                  NaN   \n\n       date_diff_reg_watch  date_diff_watch_purch  \n0                        0                    NaN  \n1                        0                    NaN  \n2                       78                    NaN  \n3                        0                    NaN  \n4                        0                    NaN  \n...                    ...                    ...  \n20250                    0                    NaN  \n20251                    0                    NaN  \n20252                    0                    NaN  \n20253                    0                    NaN  \n20254                    0                    NaN  \n\n[20255 rows x 6 columns]",
      "text/html": "<div>\n<style scoped>\n    .dataframe tbody tr th:only-of-type {\n        vertical-align: middle;\n    }\n\n    .dataframe tbody tr th {\n        vertical-align: top;\n    }\n\n    .dataframe thead th {\n        text-align: right;\n    }\n</style>\n<table border=\"1\" class=\"dataframe\">\n  <thead>\n    <tr style=\"text-align: right;\">\n      <th></th>\n      <th>student_id</th>\n      <th>date_registered</th>\n      <th>first_date_watched</th>\n      <th>first_date_purchased</th>\n      <th>date_diff_reg_watch</th>\n      <th>date_diff_watch_purch</th>\n    </tr>\n  </thead>\n  <tbody>\n    <tr>\n      <th>0</th>\n      <td>255193</td>\n      <td>2021-12-01</td>\n      <td>2021-12-01</td>\n      <td>NaN</td>\n      <td>0</td>\n      <td>NaN</td>\n    </tr>\n    <tr>\n      <th>1</th>\n      <td>255194</td>\n      <td>2021-12-01</td>\n      <td>2021-12-01</td>\n      <td>NaN</td>\n      <td>0</td>\n      <td>NaN</td>\n    </tr>\n    <tr>\n      <th>2</th>\n      <td>255198</td>\n      <td>2021-12-01</td>\n      <td>2022-02-17</td>\n      <td>NaN</td>\n      <td>78</td>\n      <td>NaN</td>\n    </tr>\n    <tr>\n      <th>3</th>\n      <td>255199</td>\n      <td>2021-12-01</td>\n      <td>2021-12-01</td>\n      <td>NaN</td>\n      <td>0</td>\n      <td>NaN</td>\n    </tr>\n    <tr>\n      <th>4</th>\n      <td>255200</td>\n      <td>2021-12-01</td>\n      <td>2021-12-01</td>\n      <td>NaN</td>\n      <td>0</td>\n      <td>NaN</td>\n    </tr>\n    <tr>\n      <th>...</th>\n      <td>...</td>\n      <td>...</td>\n      <td>...</td>\n      <td>...</td>\n      <td>...</td>\n      <td>...</td>\n    </tr>\n    <tr>\n      <th>20250</th>\n      <td>296916</td>\n      <td>2022-10-30</td>\n      <td>2022-10-30</td>\n      <td>NaN</td>\n      <td>0</td>\n      <td>NaN</td>\n    </tr>\n    <tr>\n      <th>20251</th>\n      <td>296918</td>\n      <td>2022-10-30</td>\n      <td>2022-10-30</td>\n      <td>NaN</td>\n      <td>0</td>\n      <td>NaN</td>\n    </tr>\n    <tr>\n      <th>20252</th>\n      <td>296922</td>\n      <td>2022-10-30</td>\n      <td>2022-10-30</td>\n      <td>NaN</td>\n      <td>0</td>\n      <td>NaN</td>\n    </tr>\n    <tr>\n      <th>20253</th>\n      <td>296926</td>\n      <td>2022-10-30</td>\n      <td>2022-10-30</td>\n      <td>NaN</td>\n      <td>0</td>\n      <td>NaN</td>\n    </tr>\n    <tr>\n      <th>20254</th>\n      <td>296931</td>\n      <td>2022-10-30</td>\n      <td>2022-10-30</td>\n      <td>NaN</td>\n      <td>0</td>\n      <td>NaN</td>\n    </tr>\n  </tbody>\n</table>\n<p>20255 rows × 6 columns</p>\n</div>"
     },
     "execution_count": 45,
     "metadata": {},
     "output_type": "execute_result"
    }
   ],
   "source": [
    "%%sql\n",
    "SELECT \n",
    "    si.student_id,\n",
    "    si.date_registered,\n",
    "    MIN(se.date_watched) AS first_date_watched,\n",
    "    MIN(sp.date_purchased) AS first_date_purchased,\n",
    "    DATEDIFF(MIN(se.date_watched), si.date_registered) AS date_diff_reg_watch,\n",
    "    DATEDIFF(MIN(sp.date_purchased),\n",
    "            MIN(se.date_watched)) AS date_diff_watch_purch\n",
    "FROM\n",
    "    student_info si \n",
    "        inner JOIN\n",
    "     student_engagement se\n",
    "     ON se.student_id = si.student_id\n",
    "        LEFT JOIN\n",
    "    student_purchases sp ON se.student_id = sp.student_id\n",
    "GROUP BY si.student_id\n",
    "HAVING   MIN(sp.date_purchased) IS NULL or MIN(se.date_watched) <= MIN(sp.date_purchased)\n",
    ";\n",
    "    \n",
    "   "
   ],
   "metadata": {
    "collapsed": false,
    "SqlCellData": {
     "data_source_name": "@free",
     "variableName$1": "df_student"
    },
    "ExecuteTime": {
     "end_time": "2024-01-22T21:07:47.119623600Z",
     "start_time": "2024-01-22T21:07:46.688778600Z"
    }
   },
   "id": "8b2ef81af50ca595",
   "execution_count": 45
  },
  {
   "cell_type": "code",
   "outputs": [],
   "source": [
    "# Total number of students\n",
    "total_nu_students = len(df_student)\n",
    "\n",
    "# Total number of purchases (where 'date_diff_watch_purch' is not null)\n",
    "total_of_purchases = len(df_student[df_student['date_diff_watch_purch'].notna()])\n",
    "\n",
    "# Conversion rate as a percentage\n",
    "conversion_rate = total_of_purchases / total_nu_students * 100\n",
    "\n",
    "# Average duration between the date of registration and the date of first-time engagement\n",
    "avg_re_watch = df_student['date_diff_reg_watch'].mean()\n",
    "\n",
    "# Average duration between first-time engagement and first-time purchase\n",
    "avg_first_pur = df_student['date_diff_watch_purch'].mean()"
   ],
   "metadata": {
    "collapsed": false,
    "ExecuteTime": {
     "end_time": "2024-01-22T21:07:47.134584100Z",
     "start_time": "2024-01-22T21:07:47.123613800Z"
    }
   },
   "id": "83dc73b4f2f3d4b0",
   "execution_count": 46
  },
  {
   "cell_type": "code",
   "outputs": [
    {
     "name": "stdout",
     "output_type": "stream",
     "text": [
      "Summary of Key Metrics:\n",
      "------------------------\n",
      "Total Number of Students: 20255\n",
      "Total Number of Purchases: 2286\n",
      "Conversion Rate: 11.29%\n",
      "If you google the average conversion rate for online courses, itll be about 1,5% to 2%/n/n/n\n",
      "Average Duration from Registration to First-Time Engagement: 3.42 days\n",
      "Medium Duration (Within a Few Days)/n\n",
      "Average Duration from First-Time Engagement to First-Time Purchase: 26.25 days\n"
     ]
    }
   ],
   "source": [
    "print(\"Summary of Key Metrics:\")\n",
    "print(\"------------------------\")\n",
    "print(f\"Total Number of Students: {total_nu_students}\")\n",
    "print(f\"Total Number of Purchases: {total_of_purchases}\")\n",
    "\n",
    "print(f\"Conversion Rate: {conversion_rate:.2f}%\")\n",
    "print('If you google the average conversion rate for online courses, itll be about 1,5% to 2%/n/n/n')\n",
    "\n",
    "print(f\"Average Duration from Registration to First-Time Engagement: {avg_re_watch:.2f} days\")\n",
    "print('Medium Duration (Within a Few Days)/n')\n",
    "\n",
    "\n",
    "print(f\"Average Duration from First-Time Engagement to First-Time Purchase: {avg_first_pur:.2f} days\")\n",
    "\n"
   ],
   "metadata": {
    "collapsed": false,
    "ExecuteTime": {
     "end_time": "2024-01-22T21:07:47.167495700Z",
     "start_time": "2024-01-22T21:07:47.137576100Z"
    }
   },
   "id": "f0f42828dea048d7",
   "execution_count": 47
  },
  {
   "cell_type": "code",
   "outputs": [
    {
     "data": {
      "text/plain": "<Figure size 1200x600 with 2 Axes>",
      "image/png": "[encoded data removed]"
     },
     "metadata": {},
     "output_type": "display_data"
    }
   ],
   "source": [
    "import pandas as pd\n",
    "import matplotlib.pyplot as plt\n",
    "from sklearn.preprocessing import StandardScaler\n",
    "import numpy as np\n",
    "from scipy.stats import norm\n",
    "\n",
    "# Assuming 'date_diff_reg_watch' and 'date_diff_watch_purch' are the columns in your DataFrame\n",
    "# Replace these with the actual column names in your DataFrame\n",
    "# For example, df_student['date_diff_reg_watch'] and df_student['date_diff_watch_purch']\n",
    "\n",
    "\n",
    "selected_columns = ['date_diff_reg_watch', 'date_diff_watch_purch']\n",
    "df_selected = df_student[selected_columns]\n",
    "\n",
    "# Standardize the selected columns using StandardScaler\n",
    "scaler = StandardScaler()\n",
    "df_normalized = pd.DataFrame(scaler.fit_transform(df_selected), columns=selected_columns)\n",
    "\n",
    "# Plot the normalized distributions\n",
    "plt.figure(figsize=(12, 6))\n",
    "\n",
    "# Plot for 'date_diff_reg_watch'\n",
    "plt.subplot(1, 2, 1)\n",
    "plt.hist(df_normalized['date_diff_reg_watch'], bins=30, density=True, alpha=0.7, color='blue', label='Normalized Distribution')\n",
    "xmin, xmax = plt.xlim()\n",
    "x = np.linspace(xmin, xmax, 100)\n",
    "p = norm.pdf(x, df_normalized['date_diff_reg_watch'].mean(), df_normalized['date_diff_reg_watch'].std())\n",
    "plt.plot(x, p, 'k', linewidth=2)\n",
    "title = \"Normal distribution for 'date_diff_reg_watch'\"\n",
    "plt.title(title)\n",
    "plt.xlabel('Standardized Values')\n",
    "plt.ylabel('Frequency')\n",
    "plt.legend()\n",
    "\n",
    "\n",
    "\n",
    "\n",
    "# Plot for 'date_diff_watch_purch'\n",
    "plt.subplot(1, 2, 2)\n",
    "plt.hist(df_normalized['date_diff_watch_purch'], bins=30, density=True, alpha=0.7, color='red', label='Normalized Distribution')\n",
    "xmin, xmax = plt.xlim()\n",
    "x = np.linspace(xmin, xmax, 100)\n",
    "p = norm.pdf(x, df_normalized['date_diff_watch_purch'].mean(), df_normalized['date_diff_watch_purch'].std())\n",
    "plt.plot(x, p, 'k', linewidth=2)\n",
    "title = \"Normal distribution for 'date_diff_watch_purch'\"\n",
    "plt.title(title)\n",
    "plt.xlabel('Standardized Values')\n",
    "plt.ylabel('Frequency')\n",
    "plt.legend()\n",
    "\n",
    "plt.tight_layout()\n",
    "plt.show()\n"
   ],
   "metadata": {
    "collapsed": false,
    "ExecuteTime": {
     "end_time": "2024-01-22T21:07:47.819749400Z",
     "start_time": "2024-01-22T21:07:47.156525200Z"
    }
   },
   "id": "979ef33003da115e",
   "execution_count": 48
  },
  {
   "cell_type": "code",
   "outputs": [
    {
     "name": "stdout",
     "output_type": "stream",
     "text": [
      "Skewness for 'date_diff_reg_watch': 8.73765440811251\n",
      "Skewness for 'date_diff_watch_purch': nan\n"
     ]
    }
   ],
   "source": [
    "from scipy.stats import skew\n",
    "\n",
    "# Assuming 'date_diff_reg_watch' and 'date_diff_watch_purch' are the columns in your DataFrame\n",
    "# Replace these with the actual column names in your DataFrame\n",
    "# For example, df_student['date_diff_reg_watch'] and df_student['date_diff_watch_purch']\n",
    "\n",
    "# Calculate skewness for 'date_diff_reg_watch'\n",
    "skew_reg_watch = skew(df_student['date_diff_reg_watch'])\n",
    "\n",
    "# Calculate skewness for 'date_diff_watch_purch'\n",
    "skew_watch_purch = skew(df_student['date_diff_watch_purch'])\n",
    "\n",
    "# Print the skewness values\n",
    "print(f\"Skewness for 'date_diff_reg_watch': {skew_reg_watch}\")\n",
    "print(f\"Skewness for 'date_diff_watch_purch': {skew_watch_purch}\")\n"
   ],
   "metadata": {
    "collapsed": false,
    "ExecuteTime": {
     "end_time": "2024-01-22T21:07:47.833711300Z",
     "start_time": "2024-01-22T21:07:47.822743100Z"
    }
   },
   "id": "8d00efc97f8b3c02",
   "execution_count": 49
  },
  {
   "cell_type": "code",
   "outputs": [
    {
     "name": "stdout",
     "output_type": "stream",
     "text": [
      "          student_id  date_diff_reg_watch  date_diff_watch_purch\n",
      "count   19916.000000         19916.000000            2250.000000\n",
      "mean   276705.878590             1.248795              25.627556\n",
      "std     12347.621611             5.799557              70.684734\n",
      "min    255193.000000             0.000000               0.000000\n",
      "25%    265765.750000             0.000000               0.000000\n",
      "50%    276901.500000             0.000000               1.000000\n",
      "75%    287578.250000             0.000000               7.000000\n",
      "max    296931.000000            61.000000             573.000000\n"
     ]
    }
   ],
   "source": [
    "\n",
    "\n",
    "# Calculate z-scores for 'date_diff_reg_watch'\n",
    "z_scores_reg_watch = zscore(df_student['date_diff_reg_watch'])\n",
    "\n",
    "# Calculate z-scores for 'date_diff_watch_purch'\n",
    "z_scores_watch_purch = zscore(df_student['date_diff_watch_purch'])\n",
    "\n",
    "# Define a z-score threshold for outlier detection\n",
    "z_threshold = 3.0\n",
    "\n",
    "# Filter outliers for 'date_diff_reg_watch'\n",
    "filtered_df_reg_watch = df_student[abs(z_scores_reg_watch) <= z_threshold]\n",
    "\n",
    "# Filter outliers for 'date_diff_watch_purch'\n",
    "filtered_df_watch_purch = df_student[abs(z_scores_watch_purch) <= z_threshold]\n",
    "\n",
    "# Combine both filtered DataFrames into the same DataFrame\n",
    "filtered_df_combined = pd.concat([filtered_df_reg_watch, filtered_df_watch_purch])\n",
    "\n",
    "# Display the summary statistics of the combined filtered DataFrame\n",
    "print(filtered_df_combined.describe())\n"
   ],
   "metadata": {
    "collapsed": false,
    "ExecuteTime": {
     "end_time": "2024-01-22T21:07:47.932475800Z",
     "start_time": "2024-01-22T21:07:47.836703900Z"
    }
   },
   "id": "cc738d1d8cc701f7",
   "execution_count": 50
  }
 ],
 "metadata": {
  "kernelspec": {
   "display_name": "Python 3",
   "language": "python",
   "name": "python3"
  },
  "language_info": {
   "codemirror_mode": {
    "name": "ipython",
    "version": 2
   },
   "file_extension": ".py",
   "mimetype": "text/x-python",
   "name": "python",
   "nbconvert_exporter": "python",
   "pygments_lexer": "ipython2",
   "version": "2.7.6"
  }
 },
 "nbformat": 4,
 "nbformat_minor": 5
}
